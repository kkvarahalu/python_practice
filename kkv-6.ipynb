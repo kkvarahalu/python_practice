{
 "cells": [
  {
   "cell_type": "code",
   "execution_count": 6,
   "id": "cdce71c6-366b-40dc-a603-6f8724433fcb",
   "metadata": {},
   "outputs": [
    {
     "name": "stdout",
     "output_type": "stream",
     "text": [
      "Hello\n"
     ]
    }
   ],
   "source": [
    "a=3\n",
    "if a==3:\n",
    "    print(\"Hello\")"
   ]
  },
  {
   "cell_type": "code",
   "execution_count": 29,
   "id": "2b0bbaa1-74c4-4b45-8c74-f8cc29307fa0",
   "metadata": {},
   "outputs": [
    {
     "name": "stdin",
     "output_type": "stream",
     "text": [
      "enter any number 99\n"
     ]
    },
    {
     "name": "stdout",
     "output_type": "stream",
     "text": [
      "number is odd\n"
     ]
    }
   ],
   "source": [
    "# check number is even or odd\n",
    "a=int(input(\"enter any number\"))\n",
    "if a%2==0:\n",
    "    print(\"number is even\")\n",
    "else:\n",
    "    print(\"number is odd\")\n"
   ]
  },
  {
   "cell_type": "code",
   "execution_count": 30,
   "id": "8033dcd9-ea1f-4d02-bdf7-4ddf016c6ab9",
   "metadata": {},
   "outputs": [
    {
     "name": "stdin",
     "output_type": "stream",
     "text": [
      "enter any number 88\n"
     ]
    },
    {
     "name": "stdout",
     "output_type": "stream",
     "text": [
      "number is even\n"
     ]
    }
   ],
   "source": [
    "a=int(input(\"enter any number\"))\n",
    "if a%2==0:\n",
    "    print(\"number is even\")\n",
    "if a%2!=0:\n",
    "    print(\"number is odd\")\n"
   ]
  },
  {
   "cell_type": "code",
   "execution_count": 1,
   "id": "d3994584-d9e1-4e44-b3bc-86eac93f98bc",
   "metadata": {},
   "outputs": [
    {
     "name": "stdin",
     "output_type": "stream",
     "text": [
      "enter any number 65\n"
     ]
    },
    {
     "name": "stdout",
     "output_type": "stream",
     "text": [
      "number is odd\n"
     ]
    }
   ],
   "source": [
    "a=int(input(\"enter any number\"))\n",
    "if a&1==0:\n",
    "    print(\"number is even\")\n",
    "if a&1!=0:\n",
    "    print(\"number is odd\")"
   ]
  },
  {
   "cell_type": "code",
   "execution_count": 2,
   "id": "e01494e2-8bc8-46b5-a5b3-d30c76b4679e",
   "metadata": {},
   "outputs": [
    {
     "name": "stdin",
     "output_type": "stream",
     "text": [
      "enter any number 0\n"
     ]
    },
    {
     "name": "stdout",
     "output_type": "stream",
     "text": [
      "number is negitive\n"
     ]
    }
   ],
   "source": [
    "# to check the number is +ve or -ve\n",
    "a=int(input(\"enter any number\"))\n",
    "if a>0:\n",
    "   print(\"number is positive\")\n",
    "else:\n",
    "   print(\"number is negitive\")"
   ]
  },
  {
   "cell_type": "code",
   "execution_count": 3,
   "id": "f73bb008-532e-46e3-a3b0-5a38e53000f5",
   "metadata": {},
   "outputs": [
    {
     "name": "stdin",
     "output_type": "stream",
     "text": [
      "enter any number -2\n"
     ]
    },
    {
     "name": "stdout",
     "output_type": "stream",
     "text": [
      "number is negitive\n"
     ]
    }
   ],
   "source": [
    "a=int(input(\"enter any number\"))\n",
    "if a>0:\n",
    "    print(\"number is positive\")\n",
    "else: \n",
    "    print(\"number is negitive\")"
   ]
  },
  {
   "cell_type": "code",
   "execution_count": 4,
   "id": "8129315a-553e-4b55-95ff-3da6e0ca18e8",
   "metadata": {},
   "outputs": [
    {
     "name": "stdin",
     "output_type": "stream",
     "text": [
      "enter any number 0\n"
     ]
    },
    {
     "name": "stdout",
     "output_type": "stream",
     "text": [
      "number is neutral\n"
     ]
    }
   ],
   "source": [
    "a=int(input(\"enter any number\"))\n",
    "if a>0:\n",
    "   print(\"number is positive\")\n",
    "if a==0:\n",
    "     print(\"number is neutral\")\n",
    "else:\n",
    "   print(\"number is negitive\")"
   ]
  },
  {
   "cell_type": "code",
   "execution_count": 31,
   "id": "e16634d9-8b92-4789-8919-fbc49195ed44",
   "metadata": {},
   "outputs": [
    {
     "name": "stdin",
     "output_type": "stream",
     "text": [
      "enter any number:  5\n"
     ]
    },
    {
     "name": "stdout",
     "output_type": "stream",
     "text": [
      "nuber is odd\n"
     ]
    }
   ],
   "source": [
    "#bitwise operature\n",
    "a=int(input(\"enter any number: \"))\n",
    "if a&1==0:\n",
    "    print(\"number is even\")\n",
    "if a&1!=0:\n",
    "    print(\"nuber is odd\")\n",
    "    "
   ]
  },
  {
   "cell_type": "code",
   "execution_count": 36,
   "id": "1ff356a1-6350-4961-aa47-92ef9ce9b74b",
   "metadata": {},
   "outputs": [
    {
     "name": "stdin",
     "output_type": "stream",
     "text": [
      "enter first number 5\n",
      "enter second number 6\n"
     ]
    },
    {
     "name": "stdout",
     "output_type": "stream",
     "text": [
      "b is greter\n"
     ]
    }
   ],
   "source": [
    "# simple if function\n",
    "a=int(input(\"enter first number\"))\n",
    "b=int(input(\"enter second number\"))\n",
    "if a>b:\n",
    "    print(\"a is greter\")\n",
    "if b>a:\n",
    "    print(\"b is greter\")\n",
    "    "
   ]
  },
  {
   "cell_type": "code",
   "execution_count": 34,
   "id": "0213c319-609d-4982-b215-8c3adba72779",
   "metadata": {},
   "outputs": [
    {
     "name": "stdin",
     "output_type": "stream",
     "text": [
      "enter any number 4.5\n"
     ]
    },
    {
     "name": "stdout",
     "output_type": "stream",
     "text": [
      "number is odd\n"
     ]
    }
   ],
   "source": [
    "# finding the number even or odd\n",
    "a=float(input(\"enter any number\"))\n",
    "if a%2==0:\n",
    "    print(\"number is even\")\n",
    "else:\n",
    "    print(\"number is odd\")"
   ]
  },
  {
   "cell_type": "code",
   "execution_count": 35,
   "id": "18cd4da8-68bd-4456-bf52-89064df37e29",
   "metadata": {},
   "outputs": [
    {
     "name": "stdin",
     "output_type": "stream",
     "text": [
      "enter any number 7\n"
     ]
    },
    {
     "name": "stdout",
     "output_type": "stream",
     "text": [
      "number is odd\n"
     ]
    }
   ],
   "source": [
    "# finding the number even or odd\n",
    "a=float(input(\"enter any number\"))\n",
    "if a%2==0:\n",
    "    print(\"number is even\")\n",
    "else:\n",
    "    print(\"number is odd\")\n",
    "    "
   ]
  },
  {
   "cell_type": "code",
   "execution_count": 37,
   "id": "1b0a29c5-9e7a-4a53-8835-b845fb743c1a",
   "metadata": {},
   "outputs": [
    {
     "name": "stdin",
     "output_type": "stream",
     "text": [
      "enter any number 5\n"
     ]
    },
    {
     "name": "stdout",
     "output_type": "stream",
     "text": [
      "number is possitive\n"
     ]
    }
   ],
   "source": [
    "#to check the nuber is +ve or -ve\n",
    "a=int(input(\"enter any number\"))\n",
    "if a>0:\n",
    "   print(\"number is possitive\")\n",
    "else:\n",
    "   print(\"number is negitive\")"
   ]
  },
  {
   "cell_type": "code",
   "execution_count": 38,
   "id": "66176a3f-8b5b-45e9-b3cd-9be15a5ae864",
   "metadata": {},
   "outputs": [
    {
     "name": "stdin",
     "output_type": "stream",
     "text": [
      "enter any number -5\n"
     ]
    },
    {
     "name": "stdout",
     "output_type": "stream",
     "text": [
      "number is negitive\n"
     ]
    }
   ],
   "source": [
    "#to check the nuber is +ve or -ve\n",
    "a=int(input(\"enter any number\"))\n",
    "if a>0:\n",
    "   print(\"number is possitive\")\n",
    "else:\n",
    "   print(\"number is negitive\")"
   ]
  },
  {
   "cell_type": "code",
   "execution_count": 40,
   "id": "2bdf6eff-7591-468a-9654-36fee637bc5a",
   "metadata": {},
   "outputs": [
    {
     "name": "stdin",
     "output_type": "stream",
     "text": [
      "enter the radius of a circle 7\n",
      "enter the first coordinates of a point -2\n",
      "enter the second coordinates of a point 3\n"
     ]
    },
    {
     "name": "stdout",
     "output_type": "stream",
     "text": [
      "point lies outside the circle\n"
     ]
    }
   ],
   "source": [
    "radius=float(input(\"enter the radius of a circle\"))\n",
    "x1=0\n",
    "y1=0\n",
    "x2=int(input(\"enter the first coordinates of a point\"))\n",
    "y2=int(input(\"enter the second coordinates of a point\"))\n",
    "d=(((y2-y1)**2)+((x2-x1)**2)**0.5)\n",
    "if d==radius:\n",
    "    print(\"point lies on the circle\")\n",
    "if d<radius:\n",
    "    print(\"point lies inside the circle\")\n",
    "else:\n",
    "    print(\"point lies outside the circle\")\n",
    "\n"
   ]
  },
  {
   "cell_type": "code",
   "execution_count": 14,
   "id": "c60904f9-8bf3-4358-80cb-6bacb4bd9069",
   "metadata": {},
   "outputs": [
    {
     "name": "stdin",
     "output_type": "stream",
     "text": [
      "enter the radius of a circle 5\n",
      "enter the first coordinates of a point 3\n",
      "enter the second coordinates of a point 4\n"
     ]
    },
    {
     "name": "stdout",
     "output_type": "stream",
     "text": [
      "point lies on the circle\n"
     ]
    }
   ],
   "source": [
    "radius=float(input(\"enter the radius of a circle\"))\n",
    "x1=0\n",
    "y1=0\n",
    "x2=int(input(\"enter the first coordinates of a point\"))\n",
    "y2=int(input(\"enter the second coordinates of a point\"))\n",
    "d=(((y2-y1)**2)+((x2-x1)**2))**0.5\n",
    "if d==radius:\n",
    "    print(\"point lies on the circle\")\n",
    "elif d<radius:\n",
    "    print(\"point lies inside the circle\")\n",
    "else:\n",
    "    print(\"point lies outside the circle\")\n"
   ]
  },
  {
   "cell_type": "code",
   "execution_count": 6,
   "id": "7bcd8585-379c-4211-8007-75bacf45edee",
   "metadata": {},
   "outputs": [
    {
     "name": "stdin",
     "output_type": "stream",
     "text": [
      "enter the first side of traingle 5\n",
      "enter the second side of traingle 4\n",
      "enter the third side of traingle 3\n"
     ]
    },
    {
     "name": "stdout",
     "output_type": "stream",
     "text": [
      "not a right angled\n"
     ]
    }
   ],
   "source": [
    "a=int(input(\"enter the first side of traingle\"))\n",
    "b=int(input(\"enter the second side of traingle\"))\n",
    "c=int(input(\"enter the third side of traingle\"))\n",
    "if a**2+b**2==c**2:\n",
    "    print(\"traingle is right angle\")\n",
    "else:\n",
    "    print(\"not a right angled\")"
   ]
  },
  {
   "cell_type": "code",
   "execution_count": 7,
   "id": "8a624f7e-22bb-44d9-824b-4d62841e85ef",
   "metadata": {},
   "outputs": [
    {
     "name": "stdin",
     "output_type": "stream",
     "text": [
      "enter the first side of traingle 3\n",
      "enter the second side of trangle 4\n",
      "enter the third side of traingle 5\n"
     ]
    },
    {
     "name": "stdout",
     "output_type": "stream",
     "text": [
      "traingle is right angle\n"
     ]
    }
   ],
   "source": [
    "a=int(input(\"enter the first side of traingle\"))\n",
    "b=int(input(\"enter the second side of trangle\"))\n",
    "c=int(input(\"enter the third side of traingle\"))\n",
    "if a**2+b**2==c**2:\n",
    "    print(\"traingle is right angle\")\n",
    "else:\n",
    "    print(\"not a right angled\")"
   ]
  },
  {
   "cell_type": "code",
   "execution_count": 12,
   "id": "3802250f-763b-4740-ad0d-87fa9005d2f2",
   "metadata": {},
   "outputs": [
    {
     "name": "stdin",
     "output_type": "stream",
     "text": [
      "enter r value 5\n",
      "enter x value 3\n",
      "enter y value 4\n"
     ]
    },
    {
     "name": "stdout",
     "output_type": "stream",
     "text": [
      "point on the circle\n"
     ]
    }
   ],
   "source": [
    "#check point availability in the circle of the circle using if--elif--else\n",
    "r=float(input(\"enter r value\"))\n",
    "x=int(input(\"enter x value\"))\n",
    "y=int(input(\"enter y value\"))\n",
    "d=(x**2+y**2)**0.5\n",
    "if d==r:\n",
    "    print(\"point on the circle\")\n",
    "elif d<r:\n",
    "    print(\"point point is inside the circle\")\n",
    "else:\n",
    "    print(\"point is outside the circle\")\n",
    "    "
   ]
  },
  {
   "cell_type": "code",
   "execution_count": 4,
   "id": "5669734a-3ad7-4746-935d-3b20c4a801fd",
   "metadata": {},
   "outputs": [
    {
     "name": "stdin",
     "output_type": "stream",
     "text": [
      "enter a float number 89.99\n"
     ]
    },
    {
     "name": "stdout",
     "output_type": "stream",
     "text": [
      "89.99 89 89.0 0.9899999999999949 89.99\n"
     ]
    }
   ],
   "source": [
    "flo=float(input(\"enter a float number\"))\n",
    "inte=int(flo)\n",
    "f1=float(inte)\n",
    "deci=flo-f1\n",
    "st=str(flo)\n",
    "print(flo,inte,f1,deci,st)\n"
   ]
  },
  {
   "cell_type": "code",
   "execution_count": null,
   "id": "6f0da405-41c4-413d-9cad-dcc7bd3cd0b9",
   "metadata": {},
   "outputs": [],
   "source": []
  }
 ],
 "metadata": {
  "kernelspec": {
   "display_name": "Python 3 (ipykernel)",
   "language": "python",
   "name": "python3"
  },
  "language_info": {
   "codemirror_mode": {
    "name": "ipython",
    "version": 3
   },
   "file_extension": ".py",
   "mimetype": "text/x-python",
   "name": "python",
   "nbconvert_exporter": "python",
   "pygments_lexer": "ipython3",
   "version": "3.12.7"
  }
 },
 "nbformat": 4,
 "nbformat_minor": 5
}
