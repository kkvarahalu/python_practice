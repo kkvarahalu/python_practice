{
 "cells": [
  {
   "cell_type": "code",
   "execution_count": 1,
   "id": "996c2852-f3e7-48f8-83ec-0f9d2ffaf3d4",
   "metadata": {},
   "outputs": [
    {
     "name": "stdin",
     "output_type": "stream",
     "text": [
      "enter first number 10\n",
      "enter second number 20\n"
     ]
    },
    {
     "name": "stdout",
     "output_type": "stream",
     "text": [
      "1020\n"
     ]
    }
   ],
   "source": [
    "a=input(\"enter first number\")\n",
    "b=input(\"enter second number\")\n",
    "print(a+b)"
   ]
  },
  {
   "cell_type": "code",
   "execution_count": 6,
   "id": "a79bd690-bdfe-4468-9ad3-b138b22b7b55",
   "metadata": {},
   "outputs": [
    {
     "name": "stdout",
     "output_type": "stream",
     "text": [
      "hello world\n"
     ]
    }
   ],
   "source": [
    "print(\"hello world\")"
   ]
  },
  {
   "cell_type": "code",
   "execution_count": 3,
   "id": "4c62cf84-4bf1-4303-9f05-bd1583674d2f",
   "metadata": {},
   "outputs": [
    {
     "name": "stdin",
     "output_type": "stream",
     "text": [
      "enter any number 10\n"
     ]
    },
    {
     "name": "stdout",
     "output_type": "stream",
     "text": [
      "<class 'str'>\n"
     ]
    }
   ],
   "source": [
    "a=input(\"enter any number\")\n",
    "print(type(a))"
   ]
  },
  {
   "cell_type": "code",
   "execution_count": 7,
   "id": "a1f36e0a-7a23-4158-99d1-61f906909db4",
   "metadata": {},
   "outputs": [
    {
     "name": "stdin",
     "output_type": "stream",
     "text": [
      "enter first number 20\n",
      "enter second number 30\n"
     ]
    },
    {
     "name": "stdout",
     "output_type": "stream",
     "text": [
      "50\n"
     ]
    }
   ],
   "source": [
    "a=int(input(\"enter first number\"))\n",
    "b=int(input(\"enter second number\"))\n",
    "print(a+b)"
   ]
  },
  {
   "cell_type": "code",
   "execution_count": 8,
   "id": "eebd154f-d146-4236-a4a2-67645805aa57",
   "metadata": {},
   "outputs": [
    {
     "name": "stdin",
     "output_type": "stream",
     "text": [
      "enter any number 10\n"
     ]
    },
    {
     "data": {
      "text/plain": [
       "str"
      ]
     },
     "execution_count": 8,
     "metadata": {},
     "output_type": "execute_result"
    }
   ],
   "source": [
    "a=input(\"enter any number\")\n",
    "type(a)"
   ]
  },
  {
   "cell_type": "code",
   "execution_count": 16,
   "id": "16bd5d0f-9c2c-4006-81b6-fc2b6a03c31f",
   "metadata": {},
   "outputs": [
    {
     "name": "stdin",
     "output_type": "stream",
     "text": [
      "enter first number 0.7\n",
      "enter second number 8.9\n"
     ]
    },
    {
     "name": "stdout",
     "output_type": "stream",
     "text": [
      "9.6\n"
     ]
    }
   ],
   "source": [
    "a=float(input(\"enter first number\"))\n",
    "b=float(input(\"enter second number\"))\n",
    "print(a+b)"
   ]
  },
  {
   "cell_type": "code",
   "execution_count": 3,
   "id": "116b1739-1421-495c-a6a3-5bfcf60f91f0",
   "metadata": {},
   "outputs": [
    {
     "name": "stdin",
     "output_type": "stream",
     "text": [
      "FjHHFjkhfa 10\n"
     ]
    }
   ],
   "source": [
    "a=input(\"FjHHFjkhfa\")"
   ]
  },
  {
   "cell_type": "code",
   "execution_count": 4,
   "id": "3b0bb35c-afcc-4800-9bf9-10ee4728a192",
   "metadata": {},
   "outputs": [
    {
     "name": "stdout",
     "output_type": "stream",
     "text": [
      "1\n"
     ]
    }
   ],
   "source": [
    "a=2\n",
    "print(a>>1)"
   ]
  },
  {
   "cell_type": "code",
   "execution_count": 5,
   "id": "5f5f48c4-1ccd-4104-a880-80333064db67",
   "metadata": {},
   "outputs": [
    {
     "name": "stdout",
     "output_type": "stream",
     "text": [
      "4\n"
     ]
    }
   ],
   "source": [
    "a=1\n",
    "print(2<<1)"
   ]
  },
  {
   "cell_type": "code",
   "execution_count": 7,
   "id": "46d9c5a3-2c2c-4c50-a9c7-fec4f7e9189f",
   "metadata": {},
   "outputs": [
    {
     "name": "stdin",
     "output_type": "stream",
     "text": [
      "enter first number 5\n",
      "enter second number 6\n"
     ]
    },
    {
     "name": "stdout",
     "output_type": "stream",
     "text": [
      "6 5\n"
     ]
    }
   ],
   "source": [
    "#sawp a two numbers using bitwise operators\n",
    "a=int(input(\"enter first number\"))\n",
    "b=int(input(\"enter second number\"))\n",
    "a=a^b\n",
    "b=a^b\n",
    "a=a^b\n",
    "print(a,b)"
   ]
  },
  {
   "cell_type": "code",
   "execution_count": 3,
   "id": "96416d93-47ec-45c9-8740-b8fed1533a2b",
   "metadata": {},
   "outputs": [
    {
     "name": "stdin",
     "output_type": "stream",
     "text": [
      "enter the redius of a circle 7.4\n"
     ]
    },
    {
     "name": "stdout",
     "output_type": "stream",
     "text": [
      "172.05592000000001\n"
     ]
    }
   ],
   "source": [
    "# area of circle\n",
    "redius=float(input(\"enter the redius of a circle\"))\n",
    "area=3.142*redius*redius\n",
    "print(area)"
   ]
  },
  {
   "cell_type": "code",
   "execution_count": 12,
   "id": "51130e4b-8f9f-47c7-b336-2e57dbca9fae",
   "metadata": {},
   "outputs": [
    {
     "name": "stdin",
     "output_type": "stream",
     "text": [
      "enter the redius 14\n"
     ]
    },
    {
     "name": "stdout",
     "output_type": "stream",
     "text": [
      "87.976\n"
     ]
    }
   ],
   "source": [
    "\n",
    "redius=float(input(\"enter the redius\"))\n",
    "perimeter=2*3.142*redius\n",
    "print(perimeter)"
   ]
  },
  {
   "cell_type": "code",
   "execution_count": 19,
   "id": "92c6df38-fab6-4eaf-a28d-1e43eb84b9d9",
   "metadata": {},
   "outputs": [
    {
     "name": "stdin",
     "output_type": "stream",
     "text": [
      "enter the lenth of rectangle 14\n",
      "enter the breath of rectangle 16\n"
     ]
    },
    {
     "name": "stdout",
     "output_type": "stream",
     "text": [
      "60.0\n"
     ]
    }
   ],
   "source": [
    "#rectangle\n",
    "lenth=float(input(\"enter the lenth of rectangle\"))\n",
    "breath=int(input(\"enter the breath of rectangle\"))\n",
    "perimeter=2*(lenth+breath)\n",
    "print(perimeter)"
   ]
  },
  {
   "cell_type": "code",
   "execution_count": 6,
   "id": "5f9b8913-c0fe-47bf-92ba-44cb74da86b6",
   "metadata": {},
   "outputs": [
    {
     "name": "stdin",
     "output_type": "stream",
     "text": [
      "enter the first side of a triangle 14\n",
      "enter the second side of a triangl 16\n",
      "enter the third side of a triangle 9\n"
     ]
    },
    {
     "name": "stdout",
     "output_type": "stream",
     "text": [
      "62.78086890128234\n"
     ]
    }
   ],
   "source": [
    "#heron's law\n",
    "a=int(input(\"enter the first side of a triangle\"))\n",
    "b=int(input(\"enter the second side of a triangl\"))\n",
    "c=int(input(\"enter the third side of a triangle\"))\n",
    "s=(a+b+c)/2\n",
    "area=(s*(s-a)*(s-b)*(s-c))**0.5\n",
    "print(area)"
   ]
  },
  {
   "cell_type": "code",
   "execution_count": 7,
   "id": "e3dfcc60-696f-498d-bdcf-c18b648c6281",
   "metadata": {},
   "outputs": [
    {
     "name": "stdin",
     "output_type": "stream",
     "text": [
      "enter the first alternate side of a triangle 4\n",
      "enter the second alternate side of atriangle 9\n"
     ]
    },
    {
     "name": "stdout",
     "output_type": "stream",
     "text": [
      "9.848857801796104\n"
     ]
    }
   ],
   "source": [
    "#pythagorean theorem\n",
    "side1=int(input(\"enter the first alternate side of a triangle\"))\n",
    "side2=int(input(\"enter the second alternate side of atriangle\"))\n",
    "hypo=(((side1)**2)+((side2)**2))**0.5\n",
    "print(hypo)"
   ]
  },
  {
   "cell_type": "code",
   "execution_count": 14,
   "id": "77c9a67c-42f6-42e1-bd57-b56d40ed0bfe",
   "metadata": {},
   "outputs": [
    {
     "name": "stdin",
     "output_type": "stream",
     "text": [
      "enter a value:  2\n",
      "enter b value:  7\n",
      "enter c value:  24\n"
     ]
    },
    {
     "name": "stdout",
     "output_type": "stream",
     "text": [
      "(-6.999999999999999+11.958260743101398j) (-7.000000000000001-11.958260743101398j)\n"
     ]
    }
   ],
   "source": [
    "#quadratic equation\n",
    "a=int(input(\"enter a value: \"))\n",
    "b=int(input(\"enter b value: \"))\n",
    "c=int(input(\"enter c value: \"))\n",
    "r1=(((-b+((b**2)-4*a*c)**0.5))/2*a)\n",
    "r2=(((-b-((b**2)-4*a*c)**0.5))/2*a)\n",
    "print(r1,r2)"
   ]
  },
  {
   "cell_type": "code",
   "execution_count": 1,
   "id": "f414d8f7-b526-4e37-8c53-ef0865fb7d98",
   "metadata": {},
   "outputs": [
    {
     "name": "stdin",
     "output_type": "stream",
     "text": [
      "enter your name:  John\n"
     ]
    },
    {
     "ename": "ValueError",
     "evalue": "invalid literal for int() with base 10: 'John'",
     "output_type": "error",
     "traceback": [
      "\u001b[1;31m---------------------------------------------------------------------------\u001b[0m",
      "\u001b[1;31mValueError\u001b[0m                                Traceback (most recent call last)",
      "Cell \u001b[1;32mIn[1], line 1\u001b[0m\n\u001b[1;32m----> 1\u001b[0m name\u001b[38;5;241m=\u001b[39m\u001b[38;5;28mint\u001b[39m(\u001b[38;5;28minput\u001b[39m(\u001b[38;5;124m\"\u001b[39m\u001b[38;5;124menter your name: \u001b[39m\u001b[38;5;124m\"\u001b[39m))\n\u001b[0;32m      2\u001b[0m age\u001b[38;5;241m=\u001b[39m\u001b[38;5;28mint\u001b[39m(\u001b[38;5;28minput\u001b[39m(\u001b[38;5;124m\"\u001b[39m\u001b[38;5;124menter your age: \u001b[39m\u001b[38;5;124m\"\u001b[39m))\n\u001b[0;32m      3\u001b[0m \u001b[38;5;28mprint\u001b[39m(\u001b[38;5;124m\"\u001b[39m\u001b[38;5;124mHello, \u001b[39m\u001b[38;5;124m\"\u001b[39m\u001b[38;5;241m+\u001b[39mname\u001b[38;5;241m+\u001b[39m\u001b[38;5;124m\"\u001b[39m\u001b[38;5;124m!you are\u001b[39m\u001b[38;5;124m\"\u001b[39m,age,\u001b[38;5;124m\"\u001b[39m\u001b[38;5;124myears old.\u001b[39m\u001b[38;5;124m\"\u001b[39m)\n",
      "\u001b[1;31mValueError\u001b[0m: invalid literal for int() with base 10: 'John'"
     ]
    }
   ],
   "source": [
    "name=int(input(\"enter your name: \"))\n",
    "age=int(input(\"enter your age: \"))\n",
    "print(\"Hello, \"+name+\"!you are\",age,\"years old.\")"
   ]
  },
  {
   "cell_type": "code",
   "execution_count": null,
   "id": "ec09de8b-0718-4553-8c09-0cc6d25f5dc0",
   "metadata": {},
   "outputs": [],
   "source": [
    "\n",
    "    name = input(\"Enter your name: \")\n",
    "    age = int(input(\"Enter your age: \"))\n",
    "    print(f\"Hello, {name}! You are {age} years old.\")\n",
    "except ValueError:\n",
    "    print(\"Please enter a valid number for your age.\")"
   ]
  },
  {
   "cell_type": "code",
   "execution_count": null,
   "id": "99398b7b-7227-45c9-863f-beead536d0b1",
   "metadata": {},
   "outputs": [],
   "source": [
    "a=input(\"enter any number: \")\n",
    "print(type(a))"
   ]
  }
 ],
 "metadata": {
  "kernelspec": {
   "display_name": "Python 3 (ipykernel)",
   "language": "python",
   "name": "python3"
  },
  "language_info": {
   "codemirror_mode": {
    "name": "ipython",
    "version": 3
   },
   "file_extension": ".py",
   "mimetype": "text/x-python",
   "name": "python",
   "nbconvert_exporter": "python",
   "pygments_lexer": "ipython3",
   "version": "3.12.7"
  }
 },
 "nbformat": 4,
 "nbformat_minor": 5
}
