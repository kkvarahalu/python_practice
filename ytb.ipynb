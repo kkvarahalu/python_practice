{
 "cells": [
  {
   "cell_type": "code",
   "execution_count": 1,
   "id": "2ce02242-413b-492d-8eb9-81d30ed9d987",
   "metadata": {},
   "outputs": [
    {
     "name": "stdin",
     "output_type": "stream",
     "text": [
      "enter n:  5\n"
     ]
    },
    {
     "name": "stdout",
     "output_type": "stream",
     "text": [
      "countdown:5 4 3 2 1blast off!"
     ]
    }
   ],
   "source": [
    "n=int(input(\"enter n: \"))\n",
    "print(\"countdown:5 4 3 2 1\",end =\"blast off!\")"
   ]
  },
  {
   "cell_type": "code",
   "execution_count": 5,
   "id": "f90c350d-b00e-49df-9a6b-ae7ae87536f2",
   "metadata": {},
   "outputs": [
    {
     "name": "stdin",
     "output_type": "stream",
     "text": [
      "enter a and b values:  10,5\n"
     ]
    },
    {
     "name": "stdout",
     "output_type": "stream",
     "text": [
      "adition:15,substraction:5,multiplication:50,division:2.0\n"
     ]
    }
   ],
   "source": [
    "x,y=input(\"enter a and b values: \").split(\",\")\n",
    "a=int(x)\n",
    "b=int(y)\n",
    "print(\"adition:\",a+b,\",substraction:\",a-b,\",multiplication:\",a*b,\",division:\",a/b,sep=\"\")"
   ]
  },
  {
   "cell_type": "code",
   "execution_count": 8,
   "id": "461ceafd-e5ab-48b8-8b25-ab0f1870ab70",
   "metadata": {},
   "outputs": [
    {
     "name": "stdin",
     "output_type": "stream",
     "text": [
      "enter a and b values:  10,5\n"
     ]
    },
    {
     "name": "stdout",
     "output_type": "stream",
     "text": [
      "True False False True\n"
     ]
    }
   ],
   "source": [
    "#.comparison operators\n",
    "x,y=input(\"enter a and b values: \").split(\",\")\n",
    "a=int(x)\n",
    "b=int(y)\n",
    "print(10>5,10<5,10==5,10!=5)\n"
   ]
  },
  {
   "cell_type": "code",
   "execution_count": 45,
   "id": "c4031aa1-1db9-4ae4-8b0f-e75011fb2b17",
   "metadata": {},
   "outputs": [
    {
     "name": "stdin",
     "output_type": "stream",
     "text": [
      "expected input:  True,False\n"
     ]
    },
    {
     "name": "stdout",
     "output_type": "stream",
     "text": [
      "True and False: False, True or False: True, not True: False\n"
     ]
    }
   ],
   "source": [
    "x,y =input(\"expected input: \").split(\",\")\n",
    "\n",
    "# Convert input strings to boolean values\n",
    "a = x.strip() == \"True\"\n",
    "b = y.strip() == \"True\"\n",
    "\n",
    "# Perform logical operations and print results\n",
    "print(f\"True and False: {a and b}, True or False: {a or b}, not True: {not a}\")"
   ]
  },
  {
   "cell_type": "code",
   "execution_count": 48,
   "id": "62e3ac85-8754-40bc-958a-0b1c0f47e187",
   "metadata": {},
   "outputs": [
    {
     "name": "stdin",
     "output_type": "stream",
     "text": [
      "enter name and age:  Alice,25\n"
     ]
    },
    {
     "name": "stdout",
     "output_type": "stream",
     "text": [
      "Name:Alice,age:25 years\n"
     ]
    }
   ],
   "source": [
    "x,y=input(\"enter name and age: \").split(\",\")\n",
    "print(f\"Name:{x},age:{y} years\")"
   ]
  },
  {
   "cell_type": "code",
   "execution_count": 4,
   "id": "6a3b45fe-a6f6-425f-b49e-c259051aa86f",
   "metadata": {},
   "outputs": [
    {
     "name": "stdin",
     "output_type": "stream",
     "text": [
      " 5\n",
      " 10\n"
     ]
    },
    {
     "name": "stdout",
     "output_type": "stream",
     "text": [
      "Sum:15\n",
      "Sum:15\n"
     ]
    }
   ],
   "source": [
    "#input:num1,num2\n",
    "#output:sum\n",
    "#processing num1+num2\n",
    "num1=int(input())\n",
    "num2=int(input())\n",
    "print(\"Sum:\",num1+num2,sep=\"\")\n",
    "print(f\"Sum:{num1+num2}\")"
   ]
  },
  {
   "cell_type": "code",
   "execution_count": 7,
   "id": "d659e943-07fa-4857-99d7-289d6c39d209",
   "metadata": {},
   "outputs": [
    {
     "name": "stdin",
     "output_type": "stream",
     "text": [
      "Give radius:  5\n"
     ]
    },
    {
     "name": "stdout",
     "output_type": "stream",
     "text": [
      "area of the circle: 78.5\n",
      "area of the circle:78.5\n",
      "area of the circle:78.5\n"
     ]
    }
   ],
   "source": [
    "radius=int(input(\"Give radius: \"))\n",
    "a=3.14*(radius**2)\n",
    "print(\"area of the circle:\",a)\n",
    "print(\"area of the circle:\",a,sep=\"\")\n",
    "print(f\"area of the circle:{a}\")\n",
    "\n"
   ]
  },
  {
   "cell_type": "code",
   "execution_count": 14,
   "id": "c484faec-a3df-40ea-a740-9c5965d1de8f",
   "metadata": {},
   "outputs": [
    {
     "name": "stdin",
     "output_type": "stream",
     "text": [
      "Give a:  1\n",
      "Give b:  -3\n",
      "Give c:  2\n"
     ]
    },
    {
     "name": "stdout",
     "output_type": "stream",
     "text": [
      "Roots:(2.0,1.0)\n"
     ]
    }
   ],
   "source": [
    "#solving quadratic Equations:\n",
    "#a,b,c\n",
    "a=int(input(\"Give a: \"))\n",
    "b=int(input(\"Give b: \"))\n",
    "c=int(input(\"Give c: \"))\n",
    "d=(b**2)-4*a*c\n",
    "root1=(-b+(d**0.5))/(2*a)\n",
    "root2=(-b-(d**0.5))/(2*a)\n",
    "print(f\"Roots:({root1},{root2})\")\n"
   ]
  },
  {
   "cell_type": "code",
   "execution_count": 2,
   "id": "d108c34c-d639-413e-ba1a-e25b179283a4",
   "metadata": {},
   "outputs": [
    {
     "name": "stdin",
     "output_type": "stream",
     "text": [
      "Give a:  20\n",
      "Give b:  10\n"
     ]
    },
    {
     "name": "stdout",
     "output_type": "stream",
     "text": [
      "value of a is:10\n",
      "value of a is:20\n"
     ]
    }
   ],
   "source": [
    "a=int(input(\"Give a: \"))\n",
    "b=int(input(\"Give b: \"))\n",
    "tmp=a\n",
    "a=b\n",
    "b=tmp\n",
    "print(f\"value of a is:{a}\")\n",
    "print(f\"value of a is:{b}\")"
   ]
  },
  {
   "cell_type": "code",
   "execution_count": 1,
   "id": "7d181484-886c-4f2c-94a0-631edffff85f",
   "metadata": {},
   "outputs": [
    {
     "name": "stdin",
     "output_type": "stream",
     "text": [
      "Give a:  20\n",
      "Give b:  10\n"
     ]
    },
    {
     "name": "stdout",
     "output_type": "stream",
     "text": [
      "value of a is:10\n",
      "value of a is:20\n"
     ]
    }
   ],
   "source": [
    "a=int(input(\"Give a: \"))\n",
    "b=int(input(\"Give b: \"))\n",
    "b=b+a\n",
    "a=b-a\n",
    "b=b-a\n",
    "\n",
    "print(f\"value of a is:{a}\")\n",
    "print(f\"value of a is:{b}\")"
   ]
  },
  {
   "cell_type": "code",
   "execution_count": 3,
   "id": "584e8076-0424-471f-b41c-0d1c8d6b1c4a",
   "metadata": {},
   "outputs": [
    {
     "name": "stdin",
     "output_type": "stream",
     "text": [
      " 30\n"
     ]
    },
    {
     "name": "stdout",
     "output_type": "stream",
     "text": [
      "Temparature in fahrenheit:86.0\n"
     ]
    }
   ],
   "source": [
    "#.converting temparature units:\n",
    "#fahreneit formula:f=c*(9/5)+32\n",
    "#celcius is con to kelvin farmula:k=273+c\n",
    "c=int(input())\n",
    "f=c*(9/5)+32\n",
    "print(f\"Temparature in fahrenheit:{f}\")\n"
   ]
  },
  {
   "cell_type": "code",
   "execution_count": 5,
   "id": "afb4139d-b2a7-43e4-83bc-83cff6852da4",
   "metadata": {},
   "outputs": [
    {
     "name": "stdin",
     "output_type": "stream",
     "text": [
      " 30\n"
     ]
    },
    {
     "name": "stdout",
     "output_type": "stream",
     "text": [
      "Temparature in kelvin:303.15\n"
     ]
    }
   ],
   "source": [
    "c=int(input())\n",
    "k=273.15+c\n",
    "print(f\"Temparature in kelvin:{k}\")\n"
   ]
  },
  {
   "cell_type": "code",
   "execution_count": 6,
   "id": "04e3acb2-bf7b-4112-a6a1-f0e95e02d898",
   "metadata": {},
   "outputs": [
    {
     "name": "stdout",
     "output_type": "stream",
     "text": [
      "Equivalent amount in Eur:85.0\n"
     ]
    }
   ],
   "source": [
    "#.basic currency converter:1 usd=0.85\n",
    "amount=100\n",
    "eur=0.85\n",
    "total=eur*amount\n",
    "print(f\"Equivalent amount in Eur:{total}\")\n"
   ]
  },
  {
   "cell_type": "code",
   "execution_count": 7,
   "id": "3b68b232-b654-4b47-b1d5-153f9a94e23f",
   "metadata": {},
   "outputs": [
    {
     "name": "stdout",
     "output_type": "stream",
     "text": [
      "you can play with your favorite toy!\n",
      "have fun!\n"
     ]
    }
   ],
   "source": [
    "#.dicision making:if,elif,else conditions:\n",
    "weather=\"sunny\"\n",
    "if weather==\"sunny\":\n",
    "    print(\"you can play with your favorite toy!\")\n",
    "print(\"have fun!\")"
   ]
  },
  {
   "cell_type": "code",
   "execution_count": 9,
   "id": "bf9ddd88-d266-439b-a837-079ebae90b0a",
   "metadata": {},
   "outputs": [
    {
     "name": "stdin",
     "output_type": "stream",
     "text": [
      "Give w: cloudy\n"
     ]
    },
    {
     "name": "stdout",
     "output_type": "stream",
     "text": [
      "robot\n",
      "code ended here!!!\n"
     ]
    }
   ],
   "source": [
    "w=input(\"Give w:\")\n",
    "if w==\"sunny\":\n",
    "    print(\"cricket\")\n",
    "    \n",
    "else:\n",
    "    print(\"robot\")\n",
    "print(\"code ended here!!!\")"
   ]
  },
  {
   "cell_type": "code",
   "execution_count": 20,
   "id": "76c47db6-3c68-4fd8-9390-dc6260ddc892",
   "metadata": {},
   "outputs": [
    {
     "name": "stdin",
     "output_type": "stream",
     "text": [
      "Give w: Rainy\n"
     ]
    },
    {
     "name": "stdout",
     "output_type": "stream",
     "text": [
      "it's not sunny,so you can play with a diferent toy.\n"
     ]
    }
   ],
   "source": [
    "w=input(\"Give w:\")\n",
    "if w==\"sunny\":\n",
    "    print(\"you can play with your car toy.\")\n",
    "elif w==\"rainy\":\n",
    "    print(\"carrom\")\n",
    "else:\n",
    "    print(\"it's not sunny,so you can play with a diferent toy.\")\n"
   ]
  },
  {
   "cell_type": "code",
   "execution_count": 26,
   "id": "c9dc4640-6991-46b9-8aa9-61a0efc79278",
   "metadata": {},
   "outputs": [
    {
     "name": "stdin",
     "output_type": "stream",
     "text": [
      "Give weather: snowy\n",
      "Give time of day: night\n"
     ]
    },
    {
     "name": "stdout",
     "output_type": "stream",
     "text": [
      "you can play with your teddy bear toy.\n",
      "stay warm and have a great time!\n"
     ]
    }
   ],
   "source": [
    "#if condition1:\n",
    "    #code to be executed if condition1 is True\n",
    "#elif condition2:\n",
    "    #code to be executed if codition2 is True\n",
    "#elif condition3:\n",
    "    #code to be executed if condition3 is True\n",
    "#else:\n",
    "    # code to be executed if none of the conditions are True\n",
    "w=input(\"Give weather:\")\n",
    "t=input(\"Give time of day:\")\n",
    "if w ==\"sunny\":\n",
    "    print(\"you can play your car toy.\")\n",
    "elif w==\"rainy\":\n",
    "    print(\"you can play with your boat toy.\")\n",
    "elif w==\"snowy\" and t ==\"night\":\n",
    "    print(\"you can play with your teddy bear toy.\")\n",
    "else:\n",
    "    print(\"you can play with your snowman toy.\")\n",
    "print(\"stay warm and have a great time!\")\n",
    "    "
   ]
  },
  {
   "cell_type": "code",
   "execution_count": 28,
   "id": "56783c5a-afb1-41c1-abb6-2d98f4a7e0ec",
   "metadata": {},
   "outputs": [
    {
     "name": "stdin",
     "output_type": "stream",
     "text": [
      "Give weather: cloudy\n",
      "Give time of day: dark\n"
     ]
    },
    {
     "name": "stdout",
     "output_type": "stream",
     "text": [
      "you stay inside and read a storybook.\n"
     ]
    }
   ],
   "source": [
    "w=input(\"Give weather:\")\n",
    "t=input(\"Give time of day:\")\n",
    "if w ==\"sunny\":\n",
    "    if t==\"day\":\n",
    "        print(\"you can play your car toy.\")\n",
    "    else:\n",
    "        print(\"it's night.time to sleep.\")\n",
    "elif w==\"rainy\":\n",
    "    print(\"you can play with your boat toy.\")\n",
    "elif w==\"snowy\":\n",
    "    if t==\"night\":\n",
    "        print(\"you can play with your teddy bear toy.\")\n",
    "    else:\n",
    "        print(\"you can play with your snowman toy.\")\n",
    "else:\n",
    "    print(\"you stay inside and read a storybook.\")\n",
    "\n",
    "    "
   ]
  },
  {
   "cell_type": "code",
   "execution_count": 32,
   "id": "8f86a47a-6451-4d3f-83ca-dd544be6ee74",
   "metadata": {},
   "outputs": [
    {
     "name": "stdin",
     "output_type": "stream",
     "text": [
      "Give 1st number:  10\n",
      "Give 2nd number:  5\n",
      "Give operator:  \"/\"\n"
     ]
    },
    {
     "name": "stdout",
     "output_type": "stream",
     "text": [
      "division of 2 numbers is 2.0\n"
     ]
    }
   ],
   "source": [
    "#.simple calculator program:\n",
    "num1=int(input(\"Give 1st number: \"))\n",
    "num2=int(input(\"Give 2nd number: \"))\n",
    "operator=input(\"Give operator: \")\n",
    "if operator==\"+\":\n",
    "    print(f\"addition of 2 numbers is {num1+num2}\")\n",
    "elif operator==\"-\":\n",
    "    print(f\"substraction of 2 numbers is {num1-num2}\")\n",
    "elif operator==\"*\":\n",
    "    print(f\"multiplication of 2 numbers is {num1*num2}\")\n",
    "else:\n",
    "    print(f\"division of 2 numbers is {num1/num2}\")"
   ]
  },
  {
   "cell_type": "code",
   "execution_count": 12,
   "id": "af5345c2-5d7f-4c58-8fc9-d85e126f893b",
   "metadata": {},
   "outputs": [
    {
     "name": "stdout",
     "output_type": "stream",
     "text": [
      "elol\n"
     ]
    }
   ],
   "source": [
    "#str=start:stop:step\n",
    "s=\"helloworld\"\n",
    "x=s[1:3]+s[4]+s[-2]\n",
    "print(x)"
   ]
  },
  {
   "cell_type": "code",
   "execution_count": 15,
   "id": "20ae6d0a-4f79-41fc-9cda-0994becb5661",
   "metadata": {},
   "outputs": [
    {
     "name": "stdout",
     "output_type": "stream",
     "text": [
      "hello\n",
      " world\n"
     ]
    }
   ],
   "source": [
    "print(\"hello\\n world\")"
   ]
  },
  {
   "cell_type": "code",
   "execution_count": 16,
   "id": "0e4495df-b733-4ec7-bf0c-e6da7cfc8aeb",
   "metadata": {},
   "outputs": [
    {
     "name": "stdin",
     "output_type": "stream",
     "text": [
      " Hello, World!\n"
     ]
    },
    {
     "name": "stdout",
     "output_type": "stream",
     "text": [
      "number of vowels:3\n"
     ]
    }
   ],
   "source": [
    "s=input()\n",
    "s2=s.lower()\n",
    "a=s2.count(\"a\")\n",
    "e=s2.count(\"e\")\n",
    "i=s2.count(\"i\")\n",
    "o=s2.count(\"o\")\n",
    "u=s2.count(\"u\")\n",
    "print(f\"number of vowels:{a+e+i+o+u}\")"
   ]
  },
  {
   "cell_type": "code",
   "execution_count": 19,
   "id": "f1adc1a3-3eff-4cd0-9f0f-40c249c836a3",
   "metadata": {},
   "outputs": [
    {
     "name": "stdin",
     "output_type": "stream",
     "text": [
      "marks in maths:  85\n",
      "marks in scince:  90\n",
      "marks in english:  78\n"
     ]
    },
    {
     "name": "stdout",
     "output_type": "stream",
     "text": [
      "Total marks:253\n",
      " Avarage marks:84.33333333333333\n",
      " Gread:B\n"
     ]
    }
   ],
   "source": [
    "m=int(input(\"marks in maths: \"))\n",
    "s=int(input(\"marks in scince: \"))\n",
    "e=int(input(\"marks in english: \"))\n",
    "total_marks=m+s+e\n",
    "avarage=total_marks/3\n",
    "percentage=(total_marks/300)*100\n",
    "gread=\"\"\n",
    "if percentage>90:\n",
    "    gread=\"A\"\n",
    "elif percentage>80 and percentage<=90:\n",
    "    gread=\"B\"\n",
    "elif percentage>70 and percentage<=80:\n",
    "    gread=\"C\"\n",
    "else:\n",
    "    gread=\"F\"\n",
    "print(f\"Total marks:{total_marks}\\n Avarage marks:{avarage}\\n Gread:{gread}\") \n",
    "    "
   ]
  },
  {
   "cell_type": "code",
   "execution_count": 3,
   "id": "cbc60530-08b7-417c-8eac-d1eaad63d03d",
   "metadata": {},
   "outputs": [
    {
     "data": {
      "text/plain": [
       "'el'"
      ]
     },
     "execution_count": 3,
     "metadata": {},
     "output_type": "execute_result"
    }
   ],
   "source": [
    "s[1:3]"
   ]
  },
  {
   "cell_type": "code",
   "execution_count": 4,
   "id": "4830eb7a-0094-43a4-ac55-b74dc2dd3c87",
   "metadata": {},
   "outputs": [
    {
     "data": {
      "text/plain": [
       "'elloworl'"
      ]
     },
     "execution_count": 4,
     "metadata": {},
     "output_type": "execute_result"
    }
   ],
   "source": [
    "s[1:-1]"
   ]
  },
  {
   "cell_type": "code",
   "execution_count": 5,
   "id": "7519edf1-7641-4a7a-8dad-b6fb325bca3e",
   "metadata": {},
   "outputs": [
    {
     "data": {
      "text/plain": [
       "'hel'"
      ]
     },
     "execution_count": 5,
     "metadata": {},
     "output_type": "execute_result"
    }
   ],
   "source": [
    "s[:3]"
   ]
  },
  {
   "cell_type": "code",
   "execution_count": 6,
   "id": "ba1c9dbc-d072-468d-bfca-f627f9eadee7",
   "metadata": {},
   "outputs": [
    {
     "data": {
      "text/plain": [
       "'lloworld'"
      ]
     },
     "execution_count": 6,
     "metadata": {},
     "output_type": "execute_result"
    }
   ],
   "source": [
    "s[2:]"
   ]
  },
  {
   "cell_type": "code",
   "execution_count": 7,
   "id": "1a949c8a-7cc9-4684-938f-765e1e909065",
   "metadata": {},
   "outputs": [
    {
     "data": {
      "text/plain": [
       "'helloworl'"
      ]
     },
     "execution_count": 7,
     "metadata": {},
     "output_type": "execute_result"
    }
   ],
   "source": [
    "s[:-1]"
   ]
  },
  {
   "cell_type": "code",
   "execution_count": 8,
   "id": "fbd1330c-2632-4585-8a93-ff461fef2871",
   "metadata": {},
   "outputs": [
    {
     "data": {
      "text/plain": [
       "'hlool'"
      ]
     },
     "execution_count": 8,
     "metadata": {},
     "output_type": "execute_result"
    }
   ],
   "source": [
    "s[::2]"
   ]
  },
  {
   "cell_type": "code",
   "execution_count": 9,
   "id": "940c1f82-c81c-4ecc-ad57-1e9a04098bb3",
   "metadata": {},
   "outputs": [
    {
     "data": {
      "text/plain": [
       "'elwrd'"
      ]
     },
     "execution_count": 9,
     "metadata": {},
     "output_type": "execute_result"
    }
   ],
   "source": [
    "s[1::2]"
   ]
  },
  {
   "cell_type": "code",
   "execution_count": 3,
   "id": "93af946c-a87c-473f-bbf0-13b3b03ebd05",
   "metadata": {},
   "outputs": [
    {
     "name": "stdout",
     "output_type": "stream",
     "text": [
      "it is a palindrome.\n"
     ]
    }
   ],
   "source": [
    "#.palindrome:\n",
    "p=\"radar\"\n",
    "if p[::-1]==p:\n",
    "    print(\"it is a palindrome.\")\n",
    "else:\n",
    "    print(\"it is a not palindrome.\")\n"
   ]
  },
  {
   "cell_type": "code",
   "execution_count": 5,
   "id": "78db1024-ee81-4ce6-b042-f70d5af71084",
   "metadata": {},
   "outputs": [
    {
     "name": "stdin",
     "output_type": "stream",
     "text": [
      " radar\n"
     ]
    },
    {
     "name": "stdout",
     "output_type": "stream",
     "text": [
      "it is a palindrome.\n"
     ]
    }
   ],
   "source": [
    "p=input()\n",
    "revers=p[::-1]\n",
    "if revers==p:\n",
    "    print(\"it is a palindrome.\")\n",
    "else:\n",
    "    print(\"it is a not palindrome.\")\n"
   ]
  },
  {
   "cell_type": "code",
   "execution_count": 3,
   "id": "92b16b95-e9cc-452e-a48a-5451f5772c90",
   "metadata": {},
   "outputs": [
    {
     "name": "stdin",
     "output_type": "stream",
     "text": [
      " 15,6,8\n"
     ]
    },
    {
     "name": "stdout",
     "output_type": "stream",
     "text": [
      "15\n"
     ]
    }
   ],
   "source": [
    "a=input()\n",
    "x,y,z=a.split(\",\")\n",
    "num1=int(x)\n",
    "num2=int(y)\n",
    "num3=int(z)\n",
    "great=0\n",
    "if num1>num2:\n",
    "    if num1>num3:\n",
    "        great=num1\n",
    "    else:\n",
    "        great=num3\n",
    "elif num2>num1:\n",
    "    if num2>nmu3:\n",
    "        great=num2\n",
    "    else:\n",
    "        great=num3\n",
    "elif num3>num1:\n",
    "    if num3>num2:\n",
    "        great=num3\n",
    "    else:\n",
    "        great=num2\n",
    "print(great)     "
   ]
  },
  {
   "cell_type": "code",
   "execution_count": null,
   "id": "6ee1f871-025a-4dfd-88ff-af719873890c",
   "metadata": {},
   "outputs": [],
   "source": []
  },
  {
   "cell_type": "code",
   "execution_count": null,
   "id": "5832ead7-7a35-48c6-b03c-e37f8808e21b",
   "metadata": {},
   "outputs": [],
   "source": []
  },
  {
   "cell_type": "code",
   "execution_count": null,
   "id": "3340d103-afec-44a5-9f01-a911011a904e",
   "metadata": {},
   "outputs": [],
   "source": []
  },
  {
   "cell_type": "code",
   "execution_count": null,
   "id": "12527fee-a2e0-4062-8ed8-5b8ae1f88c1a",
   "metadata": {},
   "outputs": [],
   "source": []
  },
  {
   "cell_type": "code",
   "execution_count": null,
   "id": "0cde43ea-9fd9-46d4-b3b0-dd5769f5f1bd",
   "metadata": {},
   "outputs": [],
   "source": []
  },
  {
   "cell_type": "code",
   "execution_count": null,
   "id": "28061e39-d631-42f4-8e92-7587ca9d2a11",
   "metadata": {},
   "outputs": [],
   "source": []
  },
  {
   "cell_type": "code",
   "execution_count": null,
   "id": "dd03294d-bff6-4a17-b9e4-82b890c0cadd",
   "metadata": {},
   "outputs": [],
   "source": []
  },
  {
   "cell_type": "code",
   "execution_count": null,
   "id": "6455bcf3-6caa-499e-b349-1c83f149f13b",
   "metadata": {},
   "outputs": [],
   "source": []
  },
  {
   "cell_type": "code",
   "execution_count": null,
   "id": "668dbb51-75f4-49dc-b2a1-a27400d83135",
   "metadata": {},
   "outputs": [],
   "source": []
  },
  {
   "cell_type": "code",
   "execution_count": null,
   "id": "c6187879-868f-461e-b683-51c4e5e2cf4a",
   "metadata": {},
   "outputs": [],
   "source": []
  },
  {
   "cell_type": "code",
   "execution_count": null,
   "id": "11c304b3-8150-4883-a799-b3aa945edd58",
   "metadata": {},
   "outputs": [],
   "source": []
  },
  {
   "cell_type": "code",
   "execution_count": null,
   "id": "0370f318-574f-4ee8-bc3d-a554643dd94d",
   "metadata": {},
   "outputs": [],
   "source": []
  },
  {
   "cell_type": "code",
   "execution_count": null,
   "id": "006864a2-f655-4e26-9d71-512e126c68c2",
   "metadata": {},
   "outputs": [],
   "source": []
  },
  {
   "cell_type": "code",
   "execution_count": null,
   "id": "8b72333c-4da8-4694-9f12-f6624b83104f",
   "metadata": {},
   "outputs": [],
   "source": []
  },
  {
   "cell_type": "code",
   "execution_count": null,
   "id": "9bdfe26c-bbec-4076-915b-e2bbe7ad08b6",
   "metadata": {},
   "outputs": [],
   "source": []
  },
  {
   "cell_type": "code",
   "execution_count": null,
   "id": "9a5a1a76-77a4-4099-9972-8f5cedf884e9",
   "metadata": {},
   "outputs": [],
   "source": []
  },
  {
   "cell_type": "code",
   "execution_count": null,
   "id": "32839dee-143d-473d-b49c-98ce6bfb6d97",
   "metadata": {},
   "outputs": [],
   "source": []
  },
  {
   "cell_type": "code",
   "execution_count": null,
   "id": "9600f032-9bfa-41af-af10-8a893fc490f1",
   "metadata": {},
   "outputs": [],
   "source": []
  },
  {
   "cell_type": "code",
   "execution_count": null,
   "id": "89df405e-f810-400b-80d8-24dff09126d6",
   "metadata": {},
   "outputs": [],
   "source": []
  },
  {
   "cell_type": "code",
   "execution_count": null,
   "id": "600a8bac-54bd-42e3-9e70-25173da19843",
   "metadata": {},
   "outputs": [],
   "source": []
  },
  {
   "cell_type": "code",
   "execution_count": null,
   "id": "ee3a698e-9a08-4e75-8209-ae6b976cd39b",
   "metadata": {},
   "outputs": [],
   "source": []
  },
  {
   "cell_type": "code",
   "execution_count": null,
   "id": "776509ba-5b0d-4469-94f8-2f8e93411314",
   "metadata": {},
   "outputs": [],
   "source": []
  },
  {
   "cell_type": "code",
   "execution_count": null,
   "id": "afa77f5e-2e50-4c03-ae95-5e182cb76f09",
   "metadata": {},
   "outputs": [],
   "source": []
  },
  {
   "cell_type": "code",
   "execution_count": null,
   "id": "713c3bba-7f38-4d0f-b127-eee44978b9c5",
   "metadata": {},
   "outputs": [],
   "source": []
  },
  {
   "cell_type": "code",
   "execution_count": null,
   "id": "a48e9be5-5215-4c70-862e-d1c24dc0019d",
   "metadata": {},
   "outputs": [],
   "source": []
  },
  {
   "cell_type": "code",
   "execution_count": null,
   "id": "acb7c354-0ebd-45fa-a696-dbb62be6d729",
   "metadata": {},
   "outputs": [],
   "source": []
  },
  {
   "cell_type": "code",
   "execution_count": null,
   "id": "e5b3d267-7144-4e63-a3b4-1b1685a9cbf5",
   "metadata": {},
   "outputs": [],
   "source": []
  },
  {
   "cell_type": "code",
   "execution_count": null,
   "id": "de97e0b7-fb6d-46ca-8143-40878f6005b3",
   "metadata": {},
   "outputs": [],
   "source": []
  },
  {
   "cell_type": "code",
   "execution_count": null,
   "id": "47886bac-bc0d-42ad-bffc-9b56371515b1",
   "metadata": {},
   "outputs": [],
   "source": []
  },
  {
   "cell_type": "code",
   "execution_count": null,
   "id": "12e147f0-b8ba-4bbf-a546-c85ae45979b7",
   "metadata": {},
   "outputs": [],
   "source": []
  },
  {
   "cell_type": "code",
   "execution_count": null,
   "id": "361cb732-d6be-47c5-9782-fe4541b25743",
   "metadata": {},
   "outputs": [],
   "source": []
  },
  {
   "cell_type": "code",
   "execution_count": null,
   "id": "a290688e-8336-40f3-8ec9-11e09ad8b778",
   "metadata": {},
   "outputs": [],
   "source": []
  },
  {
   "cell_type": "code",
   "execution_count": null,
   "id": "1fc9a7ad-ceab-42f2-9579-51b2d4b8ab69",
   "metadata": {},
   "outputs": [],
   "source": []
  },
  {
   "cell_type": "code",
   "execution_count": null,
   "id": "98e9af63-9845-4fa2-bf4a-b4978c7744d9",
   "metadata": {},
   "outputs": [],
   "source": []
  },
  {
   "cell_type": "code",
   "execution_count": null,
   "id": "d29873dd-6aa6-43df-be58-adf3f3100027",
   "metadata": {},
   "outputs": [],
   "source": []
  },
  {
   "cell_type": "code",
   "execution_count": null,
   "id": "4d33c5a5-3486-4bee-92f0-a0070a6ea670",
   "metadata": {},
   "outputs": [],
   "source": []
  },
  {
   "cell_type": "code",
   "execution_count": null,
   "id": "c3b1e0d4-eeae-4a41-a125-87053dcf5413",
   "metadata": {},
   "outputs": [],
   "source": []
  },
  {
   "cell_type": "code",
   "execution_count": null,
   "id": "cfc4926f-e278-48d1-be22-bfd07daac902",
   "metadata": {},
   "outputs": [],
   "source": []
  },
  {
   "cell_type": "code",
   "execution_count": null,
   "id": "b91790fb-fa12-463e-8947-b61aea4deff0",
   "metadata": {},
   "outputs": [],
   "source": []
  },
  {
   "cell_type": "code",
   "execution_count": null,
   "id": "50a4ea58-6626-4967-add3-fa89b0d6f3ee",
   "metadata": {},
   "outputs": [],
   "source": []
  },
  {
   "cell_type": "code",
   "execution_count": null,
   "id": "8207821f-9b62-41a9-bc1b-a731545cd84d",
   "metadata": {},
   "outputs": [],
   "source": []
  },
  {
   "cell_type": "code",
   "execution_count": null,
   "id": "5e25fc05-9b86-4844-ac98-c359bb76e905",
   "metadata": {},
   "outputs": [],
   "source": []
  },
  {
   "cell_type": "code",
   "execution_count": null,
   "id": "5d406372-4589-4322-a5cb-86cc4e3761f0",
   "metadata": {},
   "outputs": [],
   "source": []
  },
  {
   "cell_type": "code",
   "execution_count": null,
   "id": "492df1dc-58d7-4aed-9687-a82ad5d6911b",
   "metadata": {},
   "outputs": [],
   "source": []
  },
  {
   "cell_type": "code",
   "execution_count": null,
   "id": "60e9e730-dccc-48d0-a1c7-df3155aecb2a",
   "metadata": {},
   "outputs": [],
   "source": []
  },
  {
   "cell_type": "code",
   "execution_count": null,
   "id": "582b2893-3860-4a4b-bcd0-77dcbf2c0625",
   "metadata": {},
   "outputs": [],
   "source": []
  },
  {
   "cell_type": "code",
   "execution_count": null,
   "id": "535f0d12-1e1f-4e68-acf1-392bd3b0799b",
   "metadata": {},
   "outputs": [],
   "source": []
  },
  {
   "cell_type": "code",
   "execution_count": null,
   "id": "3dabacb8-db5b-426f-a43e-47bca0cc819e",
   "metadata": {},
   "outputs": [],
   "source": []
  },
  {
   "cell_type": "code",
   "execution_count": null,
   "id": "d0d739ff-9745-4c4f-8a76-9bef815838d7",
   "metadata": {},
   "outputs": [],
   "source": []
  },
  {
   "cell_type": "code",
   "execution_count": null,
   "id": "93d5b9b8-57dc-47e3-9e1b-a78445b93678",
   "metadata": {},
   "outputs": [],
   "source": []
  },
  {
   "cell_type": "code",
   "execution_count": null,
   "id": "8a26c109-1b15-44a8-b8fa-63e029ea27e1",
   "metadata": {},
   "outputs": [],
   "source": []
  },
  {
   "cell_type": "code",
   "execution_count": null,
   "id": "db5acef3-f4af-4378-b0d6-099b3d852c86",
   "metadata": {},
   "outputs": [],
   "source": []
  },
  {
   "cell_type": "code",
   "execution_count": null,
   "id": "48bb617b-ef4a-4abb-b550-e5d03bcd315d",
   "metadata": {},
   "outputs": [],
   "source": []
  },
  {
   "cell_type": "code",
   "execution_count": null,
   "id": "af017d27-cc0a-4f77-8059-bac51148bff1",
   "metadata": {},
   "outputs": [],
   "source": []
  },
  {
   "cell_type": "code",
   "execution_count": null,
   "id": "4bd6c93f-1c3d-4f0c-ae7e-68e3b4757d38",
   "metadata": {},
   "outputs": [],
   "source": []
  },
  {
   "cell_type": "code",
   "execution_count": null,
   "id": "9c3abc3c-f0d1-4de9-bed1-25e420a93400",
   "metadata": {},
   "outputs": [],
   "source": []
  },
  {
   "cell_type": "code",
   "execution_count": null,
   "id": "86bea267-48a7-4452-876a-c76a244154f6",
   "metadata": {},
   "outputs": [],
   "source": []
  },
  {
   "cell_type": "code",
   "execution_count": null,
   "id": "b0dcaf19-06eb-4512-8ccf-42e3b10b719a",
   "metadata": {},
   "outputs": [],
   "source": []
  },
  {
   "cell_type": "code",
   "execution_count": null,
   "id": "5a198c04-33c2-4f24-aca5-727fbd45c12e",
   "metadata": {},
   "outputs": [],
   "source": []
  },
  {
   "cell_type": "code",
   "execution_count": null,
   "id": "186cef3d-6259-423f-89e8-96f824f3ad2e",
   "metadata": {},
   "outputs": [],
   "source": []
  },
  {
   "cell_type": "code",
   "execution_count": null,
   "id": "fecac46c-a6d5-4d1b-9659-b4933837fb2f",
   "metadata": {},
   "outputs": [],
   "source": []
  },
  {
   "cell_type": "code",
   "execution_count": null,
   "id": "eeb60749-3345-4f93-b8a3-d08dfc2ad570",
   "metadata": {},
   "outputs": [],
   "source": []
  },
  {
   "cell_type": "code",
   "execution_count": null,
   "id": "3328f225-e176-4624-8b24-6f4f87cb4318",
   "metadata": {},
   "outputs": [],
   "source": []
  },
  {
   "cell_type": "code",
   "execution_count": null,
   "id": "f1a4cff9-3948-4412-9b26-3b6faca44313",
   "metadata": {},
   "outputs": [],
   "source": []
  },
  {
   "cell_type": "code",
   "execution_count": null,
   "id": "b97d0c5a-e5b3-4eec-acdd-5560c07a7d29",
   "metadata": {},
   "outputs": [],
   "source": []
  },
  {
   "cell_type": "code",
   "execution_count": null,
   "id": "a35ba580-30f2-4678-8479-6c7417e16cc1",
   "metadata": {},
   "outputs": [],
   "source": []
  },
  {
   "cell_type": "code",
   "execution_count": null,
   "id": "2b0c8119-c49b-43d0-9029-05968896a384",
   "metadata": {},
   "outputs": [],
   "source": []
  },
  {
   "cell_type": "code",
   "execution_count": null,
   "id": "92578d3d-ba58-4330-8792-5720bb61f1ec",
   "metadata": {},
   "outputs": [],
   "source": []
  },
  {
   "cell_type": "code",
   "execution_count": null,
   "id": "0754ff79-c076-42bf-b68e-76b0386e046d",
   "metadata": {},
   "outputs": [],
   "source": []
  },
  {
   "cell_type": "code",
   "execution_count": null,
   "id": "c00937c5-9f41-4c57-b539-4d6e17360177",
   "metadata": {},
   "outputs": [],
   "source": []
  },
  {
   "cell_type": "code",
   "execution_count": null,
   "id": "52a90903-41b5-48da-9a7e-6319fb15312f",
   "metadata": {},
   "outputs": [],
   "source": []
  },
  {
   "cell_type": "code",
   "execution_count": 27,
   "id": "7524fa5e-32ae-421b-9bec-a1c92ce40871",
   "metadata": {},
   "outputs": [
    {
     "name": "stdout",
     "output_type": "stream",
     "text": [
      "not TrueTrue\n"
     ]
    }
   ],
   "source": [
    "a=\"True\"\n",
    "print(\"not True\"+a)"
   ]
  },
  {
   "cell_type": "code",
   "execution_count": null,
   "id": "c169b797-a311-4c36-a5d0-6a2c2175f49a",
   "metadata": {},
   "outputs": [],
   "source": []
  },
  {
   "cell_type": "code",
   "execution_count": null,
   "id": "0cf34b78-0233-44b3-9897-032590c88da5",
   "metadata": {},
   "outputs": [],
   "source": []
  },
  {
   "cell_type": "code",
   "execution_count": null,
   "id": "09047c55-8a29-497f-96d3-55d8f5562739",
   "metadata": {},
   "outputs": [],
   "source": []
  },
  {
   "cell_type": "code",
   "execution_count": null,
   "id": "ef1a1291-6518-4260-a112-d404c6c930eb",
   "metadata": {},
   "outputs": [],
   "source": []
  },
  {
   "cell_type": "code",
   "execution_count": null,
   "id": "b58a898f-30de-4c5b-a5b2-61618721896e",
   "metadata": {},
   "outputs": [],
   "source": []
  },
  {
   "cell_type": "code",
   "execution_count": null,
   "id": "c8248921-f574-4d5f-8fd9-66e9b74543e8",
   "metadata": {},
   "outputs": [],
   "source": []
  },
  {
   "cell_type": "code",
   "execution_count": null,
   "id": "195beb4f-3ad2-456f-ada8-36fc8f3b472a",
   "metadata": {},
   "outputs": [],
   "source": []
  },
  {
   "cell_type": "code",
   "execution_count": null,
   "id": "f6a3a76e-ad47-41ea-bb1e-f768c21d0eda",
   "metadata": {},
   "outputs": [],
   "source": []
  },
  {
   "cell_type": "code",
   "execution_count": null,
   "id": "789fc616-9283-4fb2-ba6e-590db605800a",
   "metadata": {},
   "outputs": [],
   "source": []
  },
  {
   "cell_type": "code",
   "execution_count": null,
   "id": "96a0bfbe-2375-4157-8deb-900b3e742455",
   "metadata": {},
   "outputs": [],
   "source": []
  },
  {
   "cell_type": "code",
   "execution_count": null,
   "id": "e435cd0e-1c05-4643-abbb-5349275e77e0",
   "metadata": {},
   "outputs": [],
   "source": []
  },
  {
   "cell_type": "code",
   "execution_count": null,
   "id": "e9256d00-c0d1-461e-aa44-9f7048dfa5a7",
   "metadata": {},
   "outputs": [],
   "source": []
  },
  {
   "cell_type": "code",
   "execution_count": null,
   "id": "945137cb-f461-49a4-b8e3-14f5d8cf6b0b",
   "metadata": {},
   "outputs": [],
   "source": []
  },
  {
   "cell_type": "code",
   "execution_count": null,
   "id": "24b94d13-60f0-4d21-a2fb-1e79b50b0848",
   "metadata": {},
   "outputs": [],
   "source": []
  },
  {
   "cell_type": "code",
   "execution_count": null,
   "id": "c5d5c2c5-362c-4961-b88a-d3cde9f8d06e",
   "metadata": {},
   "outputs": [],
   "source": []
  },
  {
   "cell_type": "code",
   "execution_count": null,
   "id": "a7a69154-1a4f-4fab-baf0-d6b6566a2c5d",
   "metadata": {},
   "outputs": [],
   "source": []
  },
  {
   "cell_type": "code",
   "execution_count": null,
   "id": "a1ab643b-2ca0-4fe1-9548-4d1b9831ab29",
   "metadata": {},
   "outputs": [],
   "source": []
  },
  {
   "cell_type": "code",
   "execution_count": null,
   "id": "14f3e1c4-51f2-4ad7-87c0-b7955fad956c",
   "metadata": {},
   "outputs": [],
   "source": []
  },
  {
   "cell_type": "code",
   "execution_count": null,
   "id": "c59c896e-10f5-4d11-9b50-9b739c8cc766",
   "metadata": {},
   "outputs": [],
   "source": []
  },
  {
   "cell_type": "code",
   "execution_count": null,
   "id": "b40be689-c67f-4654-a541-7b7f38a1b40d",
   "metadata": {},
   "outputs": [],
   "source": []
  },
  {
   "cell_type": "code",
   "execution_count": null,
   "id": "c3d0fdbb-dac0-4e11-9633-8ad20ed2b4b2",
   "metadata": {},
   "outputs": [],
   "source": []
  },
  {
   "cell_type": "code",
   "execution_count": null,
   "id": "8f0b0fd5-6d20-43a5-b023-97839b4c4039",
   "metadata": {},
   "outputs": [],
   "source": []
  },
  {
   "cell_type": "code",
   "execution_count": null,
   "id": "ad490f9c-4fc6-4c42-97ad-951d9151209f",
   "metadata": {},
   "outputs": [],
   "source": []
  },
  {
   "cell_type": "code",
   "execution_count": null,
   "id": "9afa3bf3-5b4b-45e7-86cc-460c1b3f170c",
   "metadata": {},
   "outputs": [],
   "source": []
  },
  {
   "cell_type": "code",
   "execution_count": null,
   "id": "5ea098d1-6cc1-4b65-90b4-8f4d0950a190",
   "metadata": {},
   "outputs": [],
   "source": []
  }
 ],
 "metadata": {
  "kernelspec": {
   "display_name": "Python 3 (ipykernel)",
   "language": "python",
   "name": "python3"
  },
  "language_info": {
   "codemirror_mode": {
    "name": "ipython",
    "version": 3
   },
   "file_extension": ".py",
   "mimetype": "text/x-python",
   "name": "python",
   "nbconvert_exporter": "python",
   "pygments_lexer": "ipython3",
   "version": "3.12.7"
  }
 },
 "nbformat": 4,
 "nbformat_minor": 5
}
